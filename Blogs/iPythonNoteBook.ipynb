{
 "cells": [
  {
   "cell_type": "markdown",
   "metadata": {},
   "source": [
    "# Windows8.1 下安装iPython NoteBook 平台"
   ]
  },
  {
   "cell_type": "markdown",
   "metadata": {},
   "source": [
    "本文只进行iPython NoteBook的基础配置,比较简单，仅做个备份。"
   ]
  },
  {
   "cell_type": "markdown",
   "metadata": {},
   "source": [
    "###1. 安装Python"
   ]
  },
  {
   "cell_type": "markdown",
   "metadata": {},
   "source": [
    "以Python2.7为例，可以先去官网自行下载并安装：在http://www.python.org/download/ 下载并安装，安装程序已经自动完成了环境变量的设置。"
   ]
  },
  {
   "cell_type": "markdown",
   "metadata": {},
   "source": [
    "###2. 安装iPython和相关的库文件"
   ]
  },
  {
   "cell_type": "markdown",
   "metadata": {},
   "source": [
    "直接使用easy_install.exe安装相关包："
   ]
  },
  {
   "cell_type": "markdown",
   "metadata": {},
   "source": [
    "C:\\Python27\\Scripts>easy_install.exe Ipython\n",
    "\n",
    "C:\\Python27\\Scripts>easy_install.exe eyzmq\n",
    "\n",
    "C:\\Python27\\Scripts>easy_install.exe jinja2\n",
    "\n",
    "C:\\Python27\\Scripts>easy_install.exe tornado\n",
    "\n",
    "C:\\Python27\\Scripts>easy_install.exe pygments\n",
    "\n",
    "C:\\Python27\\Scripts>pip.exe mistune"
   ]
  },
  {
   "cell_type": "markdown",
   "metadata": {},
   "source": [
    "###3. 启动 NoteBook"
   ]
  },
  {
   "cell_type": "markdown",
   "metadata": {
    "raw_mimetype": "text/markdown"
   },
   "source": [
    "C:\\Python27\\Scripts>ipython notebook"
   ]
  }
 ],
 "metadata": {
  "kernelspec": {
   "display_name": "Python 2",
   "language": "python",
   "name": "python2"
  },
  "language_info": {
   "codemirror_mode": {
    "name": "ipython",
    "version": 2
   },
   "file_extension": ".py",
   "mimetype": "text/x-python",
   "name": "python",
   "nbconvert_exporter": "python",
   "pygments_lexer": "ipython2",
   "version": "2.7.10"
  }
 },
 "nbformat": 4,
 "nbformat_minor": 0
}
